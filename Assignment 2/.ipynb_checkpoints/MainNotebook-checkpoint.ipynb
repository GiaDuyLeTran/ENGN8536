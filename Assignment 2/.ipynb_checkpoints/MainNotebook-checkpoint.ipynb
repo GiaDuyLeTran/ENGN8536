{
 "cells": [
  {
   "cell_type": "markdown",
   "metadata": {},
   "source": [
    "# Assignment 2 Part 1\n",
    "Python 3.6\n",
    "\n"
   ]
  },
  {
   "cell_type": "markdown",
   "metadata": {},
   "source": [
    "### Loading all required Library functions"
   ]
  },
  {
   "cell_type": "code",
   "execution_count": 1,
   "metadata": {},
   "outputs": [],
   "source": [
    "import mnist\n",
    "import os\n",
    "import numpy as np\n",
    "import matplotlib.pyplot as plt\n",
    "import timeit\n",
    "\n",
    "import sigmoid\n",
    "import softmax\n",
    "import forward\n",
    "import backward\n",
    "import gradientTest\n",
    "import dataNormalizer\n",
    "import train\n",
    "import grad_check\n",
    "\n",
    "# for auto-reloading extenrnal modules\n",
    "# see http://stackoverflow.com/questions/1907993/autoreload-of-modules-in-ipython\n",
    "%load_ext autoreload\n",
    "%autoreload 2"
   ]
  },
  {
   "cell_type": "markdown",
   "metadata": {},
   "source": [
    "### Loading training, validation & test datasets"
   ]
  },
  {
   "cell_type": "code",
   "execution_count": 2,
   "metadata": {
    "scrolled": true
   },
   "outputs": [],
   "source": [
    "# Load the dataset\n",
    "X_trainData, y_trainData, X_testData, y_testData = mnist.load()"
   ]
  },
  {
   "cell_type": "markdown",
   "metadata": {},
   "source": [
    "### Setting Parameters"
   ]
  },
  {
   "cell_type": "code",
   "execution_count": 65,
   "metadata": {},
   "outputs": [],
   "source": [
    "# Parameters\n",
    "Epoch = 10\n",
    "numHiddenLayers = 100\n",
    "numClasses = np.max(y_trainData) + 1\n",
    "num_training = 59000\n",
    "num_validation = 1000\n",
    "num_test = 1000\n",
    "learningRate = 5e-3\n",
    "reg = 1e-4\n",
    "batch_size = 10"
   ]
  },
  {
   "cell_type": "markdown",
   "metadata": {},
   "source": [
    "## Normailzing the data & initializing weights\n"
   ]
  },
  {
   "cell_type": "code",
   "execution_count": 66,
   "metadata": {},
   "outputs": [
    {
     "name": "stdout",
     "output_type": "stream",
     "text": [
      "(59000, 784)\n"
     ]
    }
   ],
   "source": [
    "# Split & Normalize data set\n",
    "X_train, y_train, X_val, y_val, X_test, y_test = dataNormalizer.datasplit(X_trainData, y_trainData,\n",
    "                                                                          X_testData, y_testData,\n",
    "                                                                          num_training, num_validation, num_test)\n",
    "\n",
    "# Getting Data stats\n",
    "num_data_train, data_size = np.shape(X_train)\n",
    "\n",
    "# Initializing Weights\n",
    "weight_inputToHidden = np.random.random((data_size, numHiddenLayers)) * 1e-4\n",
    "weight_hiddenToOutput = np.random.random((numHiddenLayers, numClasses)) * 1e-4\n",
    "biasHidden = np.random.random(numHiddenLayers) * 1e-4\n",
    "biasOutput = np.random.random(numClasses) * 1e-4\n",
    "\n",
    "print(np.shape(X_train))\n"
   ]
  },
  {
   "cell_type": "markdown",
   "metadata": {},
   "source": [
    "### Initializing vectors to store Accuracy & Loss"
   ]
  },
  {
   "cell_type": "code",
   "execution_count": 67,
   "metadata": {},
   "outputs": [],
   "source": [
    "# Initialize Accuracy List\n",
    "trainAccuracy = np.zeros(1)\n",
    "validAccuracy = np.zeros(1)\n",
    "\n",
    "# Initialize Loss List\n",
    "trainLoss = np.zeros(1)\n",
    "validLoss = np.zeros(1)"
   ]
  },
  {
   "cell_type": "markdown",
   "metadata": {},
   "source": [
    "### Checking backward propagation\n"
   ]
  },
  {
   "cell_type": "code",
   "execution_count": 68,
   "metadata": {},
   "outputs": [
    {
     "name": "stdout",
     "output_type": "stream",
     "text": [
      "Loss :  2.202304353458863\n",
      "grad_hiddenToOutput :  (100, 10)\n",
      "grad_inputToHidden :  (784, 100)\n",
      "grad_biasOutput :  (10,)\n",
      "grad_biasHidden :  (100,)\n"
     ]
    }
   ],
   "source": [
    "loss, grad_hiddenToOutput, grad_inputToHidden, grad_biasOutput, grad_biasHidden = backward.backward(X_train, y_train,\n",
    "                                        weight_inputToHidden, weight_hiddenToOutput,\n",
    "                                        biasHidden, biasOutput)\n",
    "\n",
    "print('Loss : ', loss)\n",
    "print('grad_hiddenToOutput : ', grad_hiddenToOutput.shape)\n",
    "print('grad_inputToHidden : ', grad_inputToHidden.shape)\n",
    "print('grad_biasOutput : ', grad_biasOutput.shape)\n",
    "print('grad_biasHidden : ', grad_biasHidden.shape)\n"
   ]
  },
  {
   "cell_type": "markdown",
   "metadata": {},
   "source": [
    "### Training"
   ]
  },
  {
   "cell_type": "code",
   "execution_count": 69,
   "metadata": {},
   "outputs": [
    {
     "name": "stdout",
     "output_type": "stream",
     "text": [
      "Training...\n",
      "iteration 0 / 10: loss 2.202304\n",
      "Time Taken :  1.7211627163219418\n",
      "Training accuracy: 0.112542\n",
      "iteration 5 / 10: loss -0.090073\n",
      "Time Taken :  1.7057179653819503\n",
      "Training accuracy: 0.099169\n",
      "Time Taken :  19.347903483854566\n"
     ]
    }
   ],
   "source": [
    "# train\n",
    "#\n",
    "print('Training...')\n",
    "startTime = timeit.default_timer()\n",
    "\n",
    "loss, weight_inputToHidden, weight_hiddenToOutput, biasHidden, biasOutput =\\\n",
    "    train.train(X_train, y_train, weight_inputToHidden, weight_hiddenToOutput,\n",
    "                biasHidden, biasOutput, learningRate, reg, Epoch, verbose=True)\n",
    "\n",
    "stopTime = timeit.default_timer()\n",
    "\n",
    "print('Time Taken : ', stopTime-startTime)"
   ]
  },
  {
   "cell_type": "markdown",
   "metadata": {},
   "source": [
    "### Plot Loss"
   ]
  },
  {
   "cell_type": "code",
   "execution_count": 70,
   "metadata": {},
   "outputs": [
    {
     "data": {
      "image/png": "[encoded data removed]",
      "text/plain": [
       "<Figure size 432x288 with 1 Axes>"
      ]
     },
     "metadata": {},
     "output_type": "display_data"
    }
   ],
   "source": [
    "# Plot loss function as iteration number.\n",
    "plt.plot(loss)\n",
    "plt.xlabel('Iteration number')\n",
    "plt.ylabel('Loss value')\n",
    "plt.show()"
   ]
  },
  {
   "cell_type": "markdown",
   "metadata": {},
   "source": [
    "### Prediction & Accuracy"
   ]
  },
  {
   "cell_type": "code",
   "execution_count": 71,
   "metadata": {},
   "outputs": [
    {
     "name": "stdout",
     "output_type": "stream",
     "text": [
      "\n",
      "training accuracy: 0.097390\n",
      "[4 4 4 4 4 4 4 4 4 4]\n",
      "[1.40674080e-105 2.02085352e-044 8.20555642e-027 7.20550350e-087\n",
      " 1.00000000e+000 1.75162914e-102 7.10988065e-109 2.40285385e-088\n",
      " 2.82094384e-108 1.55909027e-046]\n",
      "[5 0 4 1 9 2 1 3 1 4]\n"
     ]
    }
   ],
   "source": [
    "# Forward / Prediction\n",
    "print('')\n",
    "output, classOutput = forward.forward(X_train, weight_inputToHidden, weight_hiddenToOutput, biasHidden, biasOutput)\n",
    "\n",
    "print('training accuracy: {:f}'.format(np.mean(y_train == classOutput)))\n",
    "\n",
    "print(classOutput [0:10])\n",
    "print(output [0])\n",
    "print(y_train[0:10])\n"
   ]
  },
  {
   "cell_type": "markdown",
   "metadata": {},
   "source": [
    "## Visualization"
   ]
  },
  {
   "cell_type": "code",
   "execution_count": 72,
   "metadata": {},
   "outputs": [
    {
     "data": {
      "image/png": "[encoded data removed]",
      "text/plain": [
       "<Figure size 432x288 with 10 Axes>"
      ]
     },
     "metadata": {},
     "output_type": "display_data"
    }
   ],
   "source": [
    "# Visualize the learned weights for each class\n",
    "# w = best_classifier.W#[:-1,:] # strip out the bias\n",
    "w = weight_inputToHidden.reshape(28, 28, 100)\n",
    "\n",
    "w_min, w_max = np.min(w), np.max(w)\n",
    "\n",
    "classes = ['0', '1', '2', '3', '4', '5', '6', '7', '8', '9']\n",
    "for i in range(10):\n",
    "    plt.subplot(2, 5, i + 1)\n",
    "    \n",
    "    # Rescale the weights to be between 0 and 255\n",
    "    wimg = 255.0 * (w[:, :, i].squeeze() - w_min) / (w_max - w_min)\n",
    "    plt.imshow(wimg.astype('uint8'))\n",
    "    plt.axis('off')\n",
    "    plt.title(classes[i])"
   ]
  },
  {
   "cell_type": "code",
   "execution_count": 73,
   "metadata": {},
   "outputs": [
    {
     "data": {
      "image/png": "[encoded data removed]",
      "text/plain": [
       "<Figure size 432x288 with 10 Axes>"
      ]
     },
     "metadata": {},
     "output_type": "display_data"
    }
   ],
   "source": [
    "w = weight_hiddenToOutput.reshape(10, 10, 10)\n",
    "\n",
    "w_min, w_max = np.min(w), np.max(w)\n",
    "\n",
    "classes = ['0', '1', '2', '3', '4', '5', '6', '7', '8', '9']\n",
    "for i in range(10):\n",
    "    plt.subplot(2, 5, i + 1)\n",
    "    \n",
    "    # Rescale the weights to be between 0 and 255\n",
    "    wimg = 255.0 * (w[:, :, i].squeeze() - w_min) / (w_max - w_min)\n",
    "    plt.imshow(wimg.astype('uint8'))\n",
    "    plt.axis('off')\n",
    "    plt.title(classes[i])"
   ]
  },
  {
   "cell_type": "code",
   "execution_count": null,
   "metadata": {},
   "outputs": [],
   "source": []
  },
  {
   "cell_type": "code",
   "execution_count": null,
   "metadata": {},
   "outputs": [],
   "source": []
  }
 ],
 "metadata": {
  "kernelspec": {
   "display_name": "Python 3",
   "language": "python",
   "name": "python3"
  },
  "language_info": {
   "codemirror_mode": {
    "name": "ipython",
    "version": 3
   },
   "file_extension": ".py",
   "mimetype": "text/x-python",
   "name": "python",
   "nbconvert_exporter": "python",
   "pygments_lexer": "ipython3",
   "version": "3.6.6"
  }
 },
 "nbformat": 4,
 "nbformat_minor": 1
}
