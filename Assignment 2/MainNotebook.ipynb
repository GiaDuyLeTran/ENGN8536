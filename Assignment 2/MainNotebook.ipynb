{
 "cells": [
  {
   "cell_type": "markdown",
   "metadata": {},
   "source": [
    "# Assignment 2 Part 1\n",
    "Python 3.6\n",
    "\n"
   ]
  },
  {
   "cell_type": "markdown",
   "metadata": {},
   "source": [
    "### Loading all required Library functions"
   ]
  },
  {
   "cell_type": "code",
   "execution_count": 1,
   "metadata": {},
   "outputs": [],
   "source": [
    "import mnist\n",
    "import os\n",
    "import numpy as np\n",
    "import matplotlib.pyplot as plt\n",
    "import timeit\n",
    "\n",
    "import sigmoid\n",
    "import softmax\n",
    "import forward\n",
    "import backward\n",
    "import gradientTest\n",
    "import dataNormalizer\n",
    "import train\n",
    "import grad_check\n",
    "\n",
    "\n",
    "%load_ext autoreload\n",
    "%autoreload 2"
   ]
  },
  {
   "cell_type": "markdown",
   "metadata": {},
   "source": [
    "### Loading training, validation & test datasets"
   ]
  },
  {
   "cell_type": "code",
   "execution_count": 2,
   "metadata": {
    "scrolled": true
   },
   "outputs": [],
   "source": [
    "# Load the dataset\n",
    "X_trainData, y_trainData, X_testData, y_testData = mnist.load()"
   ]
  },
  {
   "cell_type": "markdown",
   "metadata": {},
   "source": [
    "### Setting Parameters"
   ]
  },
  {
   "cell_type": "code",
   "execution_count": 21,
   "metadata": {},
   "outputs": [],
   "source": [
    "# Parameters\n",
    "Epoch = 10\n",
    "numHiddenLayers = 100\n",
    "numClasses = np.max(y_trainData) + 1\n",
    "num_training = 59000\n",
    "num_validation = 1000\n",
    "num_test = 1000\n",
    "learningRate = 1e-3\n",
    "reg = 1e-4\n",
    "batch_size = 10"
   ]
  },
  {
   "cell_type": "markdown",
   "metadata": {},
   "source": [
    "## Normailzing the data & initializing weights\n"
   ]
  },
  {
   "cell_type": "code",
   "execution_count": 22,
   "metadata": {},
   "outputs": [
    {
     "name": "stdout",
     "output_type": "stream",
     "text": [
      "(59000, 784)\n"
     ]
    }
   ],
   "source": [
    "# Split & Normalize data set\n",
    "X_train, y_train, X_val, y_val, X_test, y_test = dataNormalizer.datasplit(X_trainData, y_trainData,\n",
    "                                                                          X_testData, y_testData,\n",
    "                                                                          num_training, num_validation, num_test)\n",
    "\n",
    "# Getting Data stats\n",
    "num_data_train, data_size = np.shape(X_train)\n",
    "\n",
    "# Initializing Weights\n",
    "weight_inputToHidden = np.random.random((data_size, numHiddenLayers)) * 1e-4\n",
    "weight_hiddenToOutput = np.random.random((numHiddenLayers, numClasses)) * 1e-4\n",
    "biasHidden = np.random.random(numHiddenLayers) * 1e-4\n",
    "biasOutput = np.random.random(numClasses) * 1e-4\n",
    "\n",
    "print(np.shape(X_train))\n"
   ]
  },
  {
   "cell_type": "markdown",
   "metadata": {},
   "source": [
    "### Initializing vectors to store Accuracy & Loss"
   ]
  },
  {
   "cell_type": "code",
   "execution_count": 23,
   "metadata": {},
   "outputs": [],
   "source": [
    "# Initialize Accuracy List\n",
    "trainAccuracy = np.zeros(1)\n",
    "validAccuracy = np.zeros(1)\n",
    "\n",
    "# Initialize Loss List\n",
    "trainLoss = np.zeros(1)\n",
    "validLoss = np.zeros(1)"
   ]
  },
  {
   "cell_type": "markdown",
   "metadata": {},
   "source": [
    "### Checking backward propagation\n"
   ]
  },
  {
   "cell_type": "code",
   "execution_count": 24,
   "metadata": {},
   "outputs": [],
   "source": [
    "# loss, grad_hiddenToOutput, grad_inputToHidden, grad_biasOutput, grad_biasHidden = backward.backward(X_train, y_train,\n",
    "#                                         weight_inputToHidden, weight_hiddenToOutput,\n",
    "#                                         biasHidden, biasOutput)\n",
    "\n",
    "# print('Loss : ', loss)\n",
    "# print('grad_hiddenToOutput : ', grad_hiddenToOutput.shape)\n",
    "# print('grad_inputToHidden : ', grad_inputToHidden.shape)\n",
    "# print('grad_biasOutput : ', grad_biasOutput.shape)\n",
    "# print('grad_biasHidden : ', grad_biasHidden.shape)\n"
   ]
  },
  {
   "cell_type": "markdown",
   "metadata": {},
   "source": [
    "### Training"
   ]
  },
  {
   "cell_type": "code",
   "execution_count": 25,
   "metadata": {},
   "outputs": [
    {
     "name": "stdout",
     "output_type": "stream",
     "text": [
      "Training...\n"
     ]
    },
    {
     "name": "stderr",
     "output_type": "stream",
     "text": [
      "E:\\Education\\ANU\\OneDrive - Australian National University\\ENGN8536 Advanced Topics\\Assignment\\Assignment 2\\Code_A2\\sigmoid.py:5: RuntimeWarning: overflow encountered in exp\n",
      "  output = 1 / (1 + np.exp(-inputValue))\n"
     ]
    },
    {
     "name": "stdout",
     "output_type": "stream",
     "text": [
      "iteration 0 / 10: loss 1.740743\n",
      "Time Taken :  38.250952159452936\n",
      "Training accuracy: 0.884932\n",
      "iteration 5 / 10: loss 1.861895\n",
      "Time Taken :  36.26958274950243\n",
      "Training accuracy: 0.888068\n",
      "Time Taken :  375.87665465545115\n"
     ]
    }
   ],
   "source": [
    "# train\n",
    "#\n",
    "print('Training...')\n",
    "startTime = timeit.default_timer()\n",
    "\n",
    "loss, weight_inputToHidden, weight_hiddenToOutput, biasHidden, biasOutput =\\\n",
    "    train.train(X_train, y_train, weight_inputToHidden, weight_hiddenToOutput,\n",
    "                biasHidden, biasOutput, learningRate, reg, Epoch, verbose=True)\n",
    "\n",
    "stopTime = timeit.default_timer()\n",
    "\n",
    "print('Time Taken : ', stopTime-startTime)"
   ]
  },
  {
   "cell_type": "markdown",
   "metadata": {},
   "source": [
    "### Plot Loss"
   ]
  },
  {
   "cell_type": "code",
   "execution_count": 26,
   "metadata": {},
   "outputs": [
    {
     "data": {
      "image/png": "[encoded data removed]",
      "text/plain": [
       "<Figure size 432x288 with 1 Axes>"
      ]
     },
     "metadata": {},
     "output_type": "display_data"
    }
   ],
   "source": [
    "# Plot loss function as iteration number.\n",
    "plt.plot(loss)\n",
    "plt.xlabel('Iteration number')\n",
    "plt.ylabel('Loss value')\n",
    "plt.show()"
   ]
  },
  {
   "cell_type": "markdown",
   "metadata": {},
   "source": [
    "### Prediction & Accuracy"
   ]
  },
  {
   "cell_type": "code",
   "execution_count": 27,
   "metadata": {},
   "outputs": [
    {
     "name": "stdout",
     "output_type": "stream",
     "text": [
      "\n",
      "training accuracy: 0.872542\n",
      "\n",
      "Validation accuracy: 0.905000\n"
     ]
    },
    {
     "name": "stderr",
     "output_type": "stream",
     "text": [
      "E:\\Education\\ANU\\OneDrive - Australian National University\\ENGN8536 Advanced Topics\\Assignment\\Assignment 2\\Code_A2\\sigmoid.py:5: RuntimeWarning: overflow encountered in exp\n",
      "  output = 1 / (1 + np.exp(-inputValue))\n"
     ]
    }
   ],
   "source": [
    "# Forward / Prediction\n",
    "print('')\n",
    "output, classOutput = forward.forward(X_train, weight_inputToHidden, weight_hiddenToOutput, biasHidden, biasOutput)\n",
    "\n",
    "print('training accuracy: {:f}'.format(np.mean(y_train == classOutput)))\n",
    "\n",
    "print('')\n",
    "outputVal, classOutputVal = forward.forward(X_val, weight_inputToHidden, weight_hiddenToOutput, biasHidden, biasOutput)\n",
    "\n",
    "print('Validation accuracy: {:f}'.format(np.mean(y_val == classOutputVal)))\n",
    "\n",
    "\n",
    "# print(classOutput [2])\n",
    "# print(output [2])\n",
    "# print(y_train[2])\n"
   ]
  },
  {
   "cell_type": "markdown",
   "metadata": {},
   "source": [
    "## Visualization"
   ]
  },
  {
   "cell_type": "code",
   "execution_count": 28,
   "metadata": {},
   "outputs": [
    {
     "data": {
      "image/png": "[encoded data removed]",
      "text/plain": [
       "<Figure size 432x288 with 10 Axes>"
      ]
     },
     "metadata": {},
     "output_type": "display_data"
    }
   ],
   "source": [
    "# Visualize the learned weights for each class\n",
    "# w = best_classifier.W#[:-1,:] # strip out the bias\n",
    "w = weight_inputToHidden.reshape(28, 28, 100)\n",
    "\n",
    "w_min, w_max = np.min(w), np.max(w)\n",
    "\n",
    "classes = ['0', '1', '2', '3', '4', '5', '6', '7', '8', '9']\n",
    "for i in range(10):\n",
    "    plt.subplot(2, 5, i + 1)\n",
    "    \n",
    "    # Rescale the weights to be between 0 and 255\n",
    "    wimg = 255.0 * (w[:, :, i].squeeze() - w_min) / (w_max - w_min)\n",
    "    plt.imshow(wimg.astype('uint8'))\n",
    "    plt.axis('off')\n",
    "    plt.title(classes[i])"
   ]
  },
  {
   "cell_type": "code",
   "execution_count": 29,
   "metadata": {},
   "outputs": [
    {
     "data": {
      "image/png": "[encoded data removed]",
      "text/plain": [
       "<Figure size 432x288 with 10 Axes>"
      ]
     },
     "metadata": {},
     "output_type": "display_data"
    }
   ],
   "source": [
    "w = weight_hiddenToOutput.reshape(10, 10, 10)\n",
    "\n",
    "w_min, w_max = np.min(w), np.max(w)\n",
    "\n",
    "classes = ['0', '1', '2', '3', '4', '5', '6', '7', '8', '9']\n",
    "for i in range(10):\n",
    "    plt.subplot(2, 5, i + 1)\n",
    "    \n",
    "    # Rescale the weights to be between 0 and 255\n",
    "    wimg = 255.0 * (w[:, :, i].squeeze() - w_min) / (w_max - w_min)\n",
    "    plt.imshow(wimg.astype('uint8'))\n",
    "    plt.axis('off')\n",
    "    plt.title(classes[i])"
   ]
  },
  {
   "cell_type": "code",
   "execution_count": null,
   "metadata": {},
   "outputs": [],
   "source": []
  },
  {
   "cell_type": "code",
   "execution_count": null,
   "metadata": {},
   "outputs": [],
   "source": []
  }
 ],
 "metadata": {
  "kernelspec": {
   "display_name": "Python 3",
   "language": "python",
   "name": "python3"
  },
  "language_info": {
   "codemirror_mode": {
    "name": "ipython",
    "version": 3
   },
   "file_extension": ".py",
   "mimetype": "text/x-python",
   "name": "python",
   "nbconvert_exporter": "python",
   "pygments_lexer": "ipython3",
   "version": "3.6.6"
  }
 },
 "nbformat": 4,
 "nbformat_minor": 1
}
