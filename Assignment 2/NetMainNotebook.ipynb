{
 "cells": [
  {
   "cell_type": "markdown",
   "metadata": {
    "collapsed": true
   },
   "source": [
    "# Part 2\n"
   ]
  },
  {
   "cell_type": "markdown",
   "metadata": {},
   "source": [
    "### Loading all required Library functions"
   ]
  },
  {
   "cell_type": "code",
   "execution_count": null,
   "metadata": {},
   "outputs": [],
   "source": [
    "import torch\n",
    "import matplotlib.pyplot as plt\n",
    "import numpy as np\n",
    "import timeit\n",
    "\n",
    "import torch.nn as nn\n",
    "import torch.optim as optim\n",
    "\n",
    "import NetCheckFile\n",
    "import NetAccuracyCheck\n",
    "import NetLossCheck\n",
    "import NetTrain\n",
    "import Net2Layer\n",
    "\n",
    "\n",
    "%load_ext autoreload\n",
    "%autoreload 2"
   ]
  },
  {
   "cell_type": "markdown",
   "metadata": {},
   "source": [
    "### Checking if device has a supported GPU"
   ]
  },
  {
   "cell_type": "code",
   "execution_count": 2,
   "metadata": {},
   "outputs": [
    {
     "name": "stdout",
     "output_type": "stream",
     "text": [
      "cuda:0\n"
     ]
    }
   ],
   "source": [
    "# # Check for CUDA\n",
    "device = torch.device(\"cuda:0\" if torch.cuda.is_available() else \"cpu\")\n",
    "# # Assume that we are on a CUDA machine, then this should print a CUDA device:\n",
    "print(device)"
   ]
  },
  {
   "cell_type": "markdown",
   "metadata": {},
   "source": [
    "### Setting Parameters"
   ]
  },
  {
   "cell_type": "code",
   "execution_count": 3,
   "metadata": {},
   "outputs": [],
   "source": [
    "batch_size = 1\n",
    "valid_size = 1000\n",
    "Epoch = 10\n",
    "numHiddenLayers = 100"
   ]
  },
  {
   "cell_type": "markdown",
   "metadata": {},
   "source": [
    "### Loading training, validation & test datasets"
   ]
  },
  {
   "cell_type": "code",
   "execution_count": 4,
   "metadata": {},
   "outputs": [
    {
     "name": "stdout",
     "output_type": "stream",
     "text": [
      "TrainData Done\n",
      "Size Train Data: 60000\n",
      "Size Train Data: torch.Size([28, 28])\n",
      "TrainLoader Done\n",
      "Size Train: 59000\n",
      "ValidLoader Done\n",
      "Size Train: 1000\n",
      "TestSet Done\n",
      "Size Train: 10000\n",
      "TestLoader Done\n",
      "Size Train: 10000\n"
     ]
    }
   ],
   "source": [
    "trainloader, validloader, testloader, classes = NetCheckFile.initFiles(batch_size, valid_size)"
   ]
  },
  {
   "cell_type": "markdown",
   "metadata": {},
   "source": [
    "## Network\n",
    "### Defining the Network"
   ]
  },
  {
   "cell_type": "code",
   "execution_count": 5,
   "metadata": {},
   "outputs": [],
   "source": [
    "net = Net2Layer.Net(numHiddenLayers)\n",
    "# net.to(device)"
   ]
  },
  {
   "cell_type": "markdown",
   "metadata": {},
   "source": [
    "### Initializing vectors to store Accuracy & Loss"
   ]
  },
  {
   "cell_type": "code",
   "execution_count": 6,
   "metadata": {},
   "outputs": [],
   "source": [
    "# Initialize Accuracy List\n",
    "trainAccuracy = np.zeros(1)\n",
    "validAccuracy = np.zeros(1)\n",
    "\n",
    "# Initialize Loss List\n",
    "trainLoss = np.zeros(1)\n",
    "validLoss = np.zeros(1)"
   ]
  },
  {
   "cell_type": "markdown",
   "metadata": {},
   "source": [
    "### Training the NN\n",
    "Using Adam Optimization parameters\n",
    "\n",
    "Learning Rate =  1e-3 \n",
    "\n",
    "Betas         = (0.9, 0.999)"
   ]
  },
  {
   "cell_type": "code",
   "execution_count": null,
   "metadata": {},
   "outputs": [
    {
     "name": "stderr",
     "output_type": "stream",
     "text": [
      "f:\\deep_learning\\python_3.6_corefiles\\lib\\site-packages\\torch\\nn\\functional.py:1006: UserWarning: nn.functional.sigmoid is deprecated. Use torch.sigmoid instead.\n",
      "  warnings.warn(\"nn.functional.sigmoid is deprecated. Use torch.sigmoid instead.\")\n",
      "E:\\Education\\ANU\\OneDrive - Australian National University\\ENGN8536 Advanced Topics\\Assignment\\Assignment 2\\Code_A2\\Net2Layer.py:22: UserWarning: Implicit dimension choice for softmax has been deprecated. Change the call to include dim=X as an argument.\n",
      "  x = F.relu(self.fc2(x))\n"
     ]
    },
    {
     "name": "stdout",
     "output_type": "stream",
     "text": [
      "[1, 59000] Training loss: 2.148\n",
      "[1,  1000] Validation loss: 1.775\n",
      "Accuracy of the network on the Training images: 68 %\n",
      "Accuracy of the network on the Validation images: 66 %\n",
      "Time Taken :  93.85549756361297\n"
     ]
    }
   ],
   "source": [
    "# Set up cross-entropy loss\n",
    "criterion = nn.CrossEntropyLoss()\n",
    "\n",
    "# Set up optimizer\n",
    "optimizer = optim.SGD(net.parameters(), lr=1e-2, momentum=0)\n",
    "# optimizer = optim.Adam(net.parameters(), lr=1e-3, betas=(0.9, 0.999))\n",
    "# optimizer = optim.RMSprop(net.parameters(), lr=0.01, alpha=0.99, eps=1e-08, weight_decay=0, momentum=0, centered=False)\n",
    "\n",
    "# Train your model\n",
    "startTime = timeit.default_timer()\n",
    "for epoch in range(Epoch):  # loop over the dataset multiple times\n",
    "    startTime = timeit.default_timer()\n",
    "    \n",
    "    trainLossTemp, net = NetTrain.train(trainloader, net, 'Training', criterion, optimizer, epoch)\n",
    "    trainLoss = np.append(trainLoss, trainLossTemp)\n",
    "    stopTime = timeit.default_timer()\n",
    "    \n",
    "    validLoss = np.append(validLoss, NetLossCheck.lossCheck(validloader, net, 'Validation', epoch))\n",
    "\n",
    "    trainAccuracy = np.append(trainAccuracy, NetAccuracyCheck.accuracyCheck(trainloader, net, 'Training'))\n",
    "    validAccuracy = np.append(validAccuracy, NetAccuracyCheck.accuracyCheck(validloader, net, 'Validation'))\n",
    "\n",
    "    stopTime = timeit.default_timer()\n",
    "    print('Time Taken : ', stopTime-startTime)\n",
    "    \n",
    "print('Fin...')"
   ]
  },
  {
   "cell_type": "markdown",
   "metadata": {},
   "source": [
    "### Deleting the 1st value of the accuracy & loss vectors\n",
    "Since the vector is initialized using zeros & rest are appended, we need to delete the 1st rogue variable."
   ]
  },
  {
   "cell_type": "code",
   "execution_count": null,
   "metadata": {},
   "outputs": [],
   "source": [
    "# Deleting 1st index value\n",
    "trainLoss = np.delete(trainLoss,0)\n",
    "validLoss = np.delete(validLoss,0)\n",
    "trainAccuracy = np.delete(trainAccuracy,0)\n",
    "validAccuracy = np.delete(validAccuracy,0)"
   ]
  },
  {
   "cell_type": "markdown",
   "metadata": {},
   "source": [
    "### Save the Network"
   ]
  },
  {
   "cell_type": "code",
   "execution_count": null,
   "metadata": {},
   "outputs": [],
   "source": [
    "# Saving the network\n",
    "torch.save(net, './Save')"
   ]
  },
  {
   "cell_type": "markdown",
   "metadata": {},
   "source": [
    "### Plotting the Accuracy & Loss Vs Epoch"
   ]
  },
  {
   "cell_type": "code",
   "execution_count": null,
   "metadata": {},
   "outputs": [],
   "source": [
    "# Plots\n",
    "\n",
    "# Making X axis\n",
    "xAxis = np.arange(1, Epoch+1)\n",
    "\n",
    "# Training loss vs. epochs\n",
    "fig1 = plt.figure()\n",
    "plt.plot(xAxis, trainLoss)\n",
    "fig1.suptitle('Training Loss', fontsize=20)\n",
    "plt.xlabel('Epochs', fontsize=18)\n",
    "plt.ylabel('Loss', fontsize=16)\n",
    "\n",
    "# Training accuracy vs. epochs\n",
    "fig2 = plt.figure()\n",
    "plt.plot(xAxis, trainAccuracy)\n",
    "fig2.suptitle('Training Accuracy', fontsize=20)\n",
    "plt.xlabel('Epochs', fontsize=18)\n",
    "plt.ylabel('Accuracy', fontsize=16)\n",
    "\n",
    "# Validation loss vs epochs\n",
    "fig3 = plt.figure()\n",
    "plt.plot(xAxis, validLoss)\n",
    "fig3.suptitle('Validation Loss', fontsize=20)\n",
    "plt.xlabel('Epochs', fontsize=18)\n",
    "plt.ylabel('Loss', fontsize=16)\n",
    "\n",
    "# Validation accuracy vs. epochs\n",
    "fig4 = plt.figure()\n",
    "plt.plot(xAxis, validAccuracy)\n",
    "fig4.suptitle('Validation Accuracy', fontsize=20)\n",
    "plt.xlabel('Epochs', fontsize=18)\n",
    "plt.ylabel('Accuracy', fontsize=16)"
   ]
  },
  {
   "cell_type": "markdown",
   "metadata": {},
   "source": [
    "## Visualization"
   ]
  },
  {
   "cell_type": "code",
   "execution_count": null,
   "metadata": {},
   "outputs": [],
   "source": [
    "# # Visualize the learned weights for each class\n",
    "# w = best_classifier.W #[:-1,:] # strip out the bias\n",
    "# w = w.reshape(28, 28, 10)\n",
    "# \n",
    "# w_min, w_max = np.min(w), np.max(w)\n",
    "# \n",
    "# classes = ['0', '1', '2', '3', '4', '5', '6', '7', '8', '9']\n",
    "# for i in range(10):\n",
    "#     plt.subplot(2, 5, i + 1)\n",
    "#     \n",
    "#     # Rescale the weights to be between 0 and 255\n",
    "#     wimg = 255.0 * (w[:, :, i].squeeze() - w_min) / (w_max - w_min)\n",
    "#     plt.imshow(wimg.astype('uint8'))\n",
    "#     plt.axis('off')\n",
    "#     plt.title(classes[i])"
   ]
  }
 ],
 "metadata": {
  "kernelspec": {
   "display_name": "Python 3",
   "language": "python",
   "name": "python3"
  },
  "language_info": {
   "codemirror_mode": {
    "name": "ipython",
    "version": 3
   },
   "file_extension": ".py",
   "mimetype": "text/x-python",
   "name": "python",
   "nbconvert_exporter": "python",
   "pygments_lexer": "ipython3",
   "version": "3.6.6"
  }
 },
 "nbformat": 4,
 "nbformat_minor": 1
}
