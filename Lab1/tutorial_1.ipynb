{
 "cells": [
  {
   "cell_type": "markdown",
   "metadata": {
    "collapsed": true
   },
   "source": [
    "# Tutorial from CS231\n"
   ]
  },
  {
   "cell_type": "markdown",
   "metadata": {},
   "source": [
    "## Importing libraries & classes"
   ]
  },
  {
   "cell_type": "code",
   "execution_count": 6,
   "metadata": {},
   "outputs": [],
   "source": [
    "import random\n",
    "import numpy as np\n",
    "import matplotlib.pyplot as plt\n",
    "import pdb\n",
    "\n",
    "# From self functions\n",
    "import mnist\n",
    "from softmax import softmax_loss\n",
    "from linear_classifier import LinearClassifier\n",
    "\n",
    "from __future__ import print_function"
   ]
  },
  {
   "cell_type": "markdown",
   "metadata": {},
   "source": [
    "## Import MNIST Data"
   ]
  },
  {
   "cell_type": "code",
   "execution_count": 9,
   "metadata": {},
   "outputs": [],
   "source": [
    "### Load MNIST data ###\n",
    "# mnist.init() # Only need to run once, can be commented out after first run\n",
    "X_train, y_train, X_test, y_test = mnist.load()"
   ]
  },
  {
   "cell_type": "markdown",
   "metadata": {},
   "source": [
    "## Preprocessing the data\n",
    "1. Diving to Training, Validation & test sets\n",
    "2. Data Normalization"
   ]
  },
  {
   "cell_type": "code",
   "execution_count": 10,
   "metadata": {},
   "outputs": [],
   "source": [
    "### Preprocess data ###\n",
    "num_training = 59000\n",
    "num_validation = 1000\n",
    "num_dev = 500\n",
    "num_test = 1000\n",
    "\n",
    "# subsample the data\n",
    "# Validation set\n",
    "mask = list(range(num_training, num_training + num_validation))\n",
    "X_val = X_train[mask]\n",
    "y_val = y_train[mask]\n",
    "# Training set\n",
    "mask = list(range(num_training))\n",
    "X_train = X_train[mask]\n",
    "y_train = y_train[mask]\n",
    "# Subsample of test set\n",
    "mask = list(range(num_test))\n",
    "X_test = X_test[mask]\n",
    "y_test = y_test[mask]\n",
    "# Create a small development set (subsample of training set)\n",
    "mask = np.random.choice(num_training, num_dev, replace=False)\n",
    "X_dev = X_train[mask]\n",
    "y_dev = y_train[mask]\n",
    "\n",
    "# Normalize image\n",
    "X_train = X_train / 255\n",
    "X_val = X_val / 255\n",
    "X_test = X_test / 255\n",
    "X_dev = X_dev / 255\n",
    "mean_image = np.mean(X_train, axis = 0)\n",
    "X_train = X_train - mean_image\n",
    "X_val = X_val - mean_image\n",
    "X_test = X_test - mean_image\n",
    "X_dev = X_dev - mean_image"
   ]
  },
  {
   "cell_type": "markdown",
   "metadata": {},
   "source": [
    "## Implement the Softmax function"
   ]
  },
  {
   "cell_type": "code",
   "execution_count": 11,
   "metadata": {},
   "outputs": [
    {
     "name": "stdout",
     "output_type": "stream",
     "text": [
      "loss: 2.302603\n",
      "sanity check: 2.302585\n"
     ]
    }
   ],
   "source": [
    "# Generate a random softmax weight matrix and use it to compute the loss\n",
    "W = np.random.randn(784, 10) * 1e-4\n",
    "b = np.random.randn(10) * 1e-4\n",
    "loss, grad_W, grad_b = softmax_loss(W, b, X_dev, y_dev, 0.0)\n",
    "\n",
    "# As a rough sanity check, loss should be close to -log(0.1)\n",
    "print('loss: {:f}'.format(loss))\n",
    "print('sanity check: {:f}'.format(-np.log(0.1)))"
   ]
  },
  {
   "cell_type": "markdown",
   "metadata": {},
   "source": [
    "## Do gradient check"
   ]
  },
  {
   "cell_type": "code",
   "execution_count": 12,
   "metadata": {},
   "outputs": [],
   "source": [
    "# gradient check function\n",
    "def grad_check(f, x, analytic_grad, num_checks=10, h=1e-5):\n",
    "  \"\"\"\n",
    "  sample a few random elements and only return numerical\n",
    "  in this dimensions.\n",
    "  \"\"\"\n",
    "\n",
    "  for i in range(num_checks):\n",
    "    ix = tuple([random.randrange(m) for m in x.shape])\n",
    "\n",
    "    oldval = x[ix]\n",
    "    x[ix] = oldval + h # increment by h\n",
    "    fxph = f(x) # evaluate f(x + h)\n",
    "    x[ix] = oldval - h # increment by h\n",
    "    fxmh = f(x) # evaluate f(x - h)\n",
    "    x[ix] = oldval # reset\n",
    "\n",
    "    grad_numerical = (fxph - fxmh) / (2 * h)\n",
    "    grad_analytic = analytic_grad[ix]\n",
    "    rel_error = abs(grad_numerical - grad_analytic) / (abs(grad_numerical) + abs(grad_analytic))\n",
    "    print('numerical: %f analytic: %f, relative error: %e' % (grad_numerical, grad_analytic, rel_error))"
   ]
  },
  {
   "cell_type": "code",
   "execution_count": 13,
   "metadata": {},
   "outputs": [
    {
     "name": "stdout",
     "output_type": "stream",
     "text": [
      "dw w/o reg\n",
      "numerical: 0.000000 analytic: 0.000000, relative error: 1.893001e-04\n",
      "numerical: -0.006488 analytic: -0.006488, relative error: 1.143991e-09\n",
      "numerical: -0.000002 analytic: -0.000002, relative error: 2.225087e-06\n",
      "numerical: 0.009877 analytic: 0.009877, relative error: 7.527791e-10\n",
      "numerical: 0.018050 analytic: 0.018050, relative error: 2.462272e-10\n",
      "db w/o reg\n",
      "numerical: -0.008004 analytic: -0.007927, relative error: 4.883297e-03\n",
      "numerical: -0.008004 analytic: -0.007927, relative error: 4.883297e-03\n",
      "numerical: -0.025986 analytic: -0.025908, relative error: 1.499149e-03\n",
      "numerical: 0.015992 analytic: 0.016070, relative error: 2.426377e-03\n",
      "numerical: -0.025986 analytic: -0.025908, relative error: 1.499149e-03\n",
      "dw with reg\n",
      "numerical: 0.001472 analytic: 0.001472, relative error: 2.221615e-10\n",
      "numerical: -0.000119 analytic: -0.000119, relative error: 3.439303e-08\n",
      "numerical: -0.000427 analytic: -0.000427, relative error: 8.881093e-09\n",
      "numerical: 0.003548 analytic: 0.003548, relative error: 3.008752e-09\n",
      "numerical: 0.005074 analytic: 0.005074, relative error: 2.068727e-10\n",
      "db with reg\n",
      "numerical: 0.006005 analytic: 0.006083, relative error: 6.435454e-03\n",
      "numerical: 0.001996 analytic: 0.002074, relative error: 1.911366e-02\n",
      "numerical: 0.001996 analytic: 0.002074, relative error: 1.911366e-02\n",
      "numerical: -0.025986 analytic: -0.025908, relative error: 1.499149e-03\n",
      "numerical: 0.001996 analytic: 0.002074, relative error: 1.911366e-02\n"
     ]
    }
   ],
   "source": [
    "# Your analytical gradient should be close to numerical gradient, error less than 1e-5. \n",
    "f = lambda w: softmax_loss(w, b, X_dev, y_dev, 0.0)[0]\n",
    "print('dw w/o reg')\n",
    "grad_numerical_w = grad_check(f, W, grad_W, 5)\n",
    "f = lambda b: softmax_loss(W, b, X_dev, y_dev, 0.0)[0]\n",
    "print('db w/o reg')\n",
    "grad_numerical_b = grad_check(f, b, grad_b, 5)\n",
    "\n",
    "\n",
    "# similar to SVM case, do another gradient check with regularization\n",
    "loss, grad_W, grad_b = softmax_loss(W, b, X_dev, y_dev, 5e1)\n",
    "f = lambda w: softmax_loss(w, b, X_dev, y_dev, 5e1)[0]\n",
    "print('dw with reg')\n",
    "grad_numerical_W = grad_check(f, W, grad_W, 5)\n",
    "f = lambda b: softmax_loss(W, b, X_dev, y_dev, 5e1)[0]\n",
    "print('db with reg')\n",
    "grad_numerical_b = grad_check(f, b, grad_b, 5)"
   ]
  },
  {
   "cell_type": "markdown",
   "metadata": {},
   "source": [
    "## Open the linear_classifier.py & implement Stohastic gradient descent."
   ]
  },
  {
   "cell_type": "code",
   "execution_count": 14,
   "metadata": {},
   "outputs": [
    {
     "name": "stdout",
     "output_type": "stream",
     "text": [
      "iteration 0 / 1500: loss 198.669893\n",
      "iteration 250 / 1500: loss 18.320390\n",
      "iteration 500 / 1500: loss 3.609146\n",
      "iteration 750 / 1500: loss 2.409166\n",
      "iteration 1000 / 1500: loss 2.311270\n",
      "iteration 1250 / 1500: loss 2.303285\n"
     ]
    }
   ],
   "source": [
    "from linear_classifier import LinearClassifier\n",
    "classifier = LinearClassifier()\n",
    "loss_hist = classifier.train(X_train, y_train, learning_rate=1e-7, reg=5e4, num_iters=1500, verbose=True)"
   ]
  },
  {
   "cell_type": "markdown",
   "metadata": {},
   "source": [
    "## Setting plot window"
   ]
  },
  {
   "cell_type": "code",
   "execution_count": 4,
   "metadata": {},
   "outputs": [
    {
     "name": "stdout",
     "output_type": "stream",
     "text": [
      "The autoreload extension is already loaded. To reload it, use:\n",
      "  %reload_ext autoreload\n"
     ]
    }
   ],
   "source": [
    "%matplotlib inline\n",
    "plt.rcParams['figure.figsize'] = (10.0, 8.0) # set default size of plots\n",
    "plt.rcParams['image.interpolation'] = 'nearest'\n",
    "plt.rcParams['image.cmap'] = 'gray'\n",
    "\n",
    "# for auto-reloading extenrnal modules\n",
    "# see http://stackoverflow.com/questions/1907993/autoreload-of-modules-in-ipython\n",
    "%load_ext autoreload\n",
    "%autoreload 2"
   ]
  },
  {
   "cell_type": "markdown",
   "metadata": {},
   "source": [
    "## Ploting the loss"
   ]
  },
  {
   "cell_type": "code",
   "execution_count": 16,
   "metadata": {},
   "outputs": [
    {
     "data": {
      "image/png": "[encoded data removed]",
      "text/plain": [
       "<Figure size 720x576 with 1 Axes>"
      ]
     },
     "metadata": {},
     "output_type": "display_data"
    }
   ],
   "source": [
    "# Plot loss function as iteration number.\n",
    "plt.plot(loss_hist)\n",
    "plt.xlabel('Iteration number')\n",
    "plt.ylabel('Loss value')\n",
    "plt.show()"
   ]
  },
  {
   "cell_type": "markdown",
   "metadata": {},
   "source": [
    "## Evaluate accuracy"
   ]
  },
  {
   "cell_type": "code",
   "execution_count": 17,
   "metadata": {},
   "outputs": [
    {
     "name": "stdout",
     "output_type": "stream",
     "text": [
      "training accuracy: 0.670051\n",
      "validation accuracy: 0.739000\n"
     ]
    }
   ],
   "source": [
    "# Implement predict function and evaluate performance on training and validation set.\n",
    "y_train_pred = classifier.predict(X_train)\n",
    "print('training accuracy: {:f}'.format(np.mean(y_train == y_train_pred)))\n",
    "y_val_pred = classifier.predict(X_val)\n",
    "print('validation accuracy: {:f}'.format(np.mean(y_val == y_val_pred)))"
   ]
  },
  {
   "cell_type": "markdown",
   "metadata": {},
   "source": [
    "## Hyper-parameter tuning. Find the best set of learning rate and regularization strength. "
   ]
  },
  {
   "cell_type": "code",
   "execution_count": 18,
   "metadata": {},
   "outputs": [
    {
     "name": "stdout",
     "output_type": "stream",
     "text": [
      "iteration 0 / 1500: loss 99.699208\n",
      "iteration 250 / 1500: loss 30.163636\n",
      "iteration 500 / 1500: loss 10.272280\n",
      "iteration 750 / 1500: loss 4.582399\n",
      "iteration 1000 / 1500: loss 2.954725\n",
      "iteration 1250 / 1500: loss 2.489107\n",
      "iteration 0 / 1500: loss 196.609738\n",
      "iteration 250 / 1500: loss 18.152329\n",
      "iteration 500 / 1500: loss 3.595482\n",
      "iteration 750 / 1500: loss 2.408037\n",
      "iteration 1000 / 1500: loss 2.311179\n",
      "iteration 1250 / 1500: loss 2.303275\n",
      "iteration 0 / 1500: loss 38.970492\n",
      "iteration 250 / 1500: loss 25.100663\n",
      "iteration 500 / 1500: loss 16.476950\n",
      "iteration 750 / 1500: loss 11.115103\n",
      "iteration 1000 / 1500: loss 7.781747\n",
      "iteration 1250 / 1500: loss 5.709317\n",
      "iteration 0 / 1500: loss 41.374033\n",
      "iteration 250 / 1500: loss 25.994356\n",
      "iteration 500 / 1500: loss 16.668355\n",
      "iteration 750 / 1500: loss 11.014150\n",
      "iteration 1000 / 1500: loss 7.585111\n",
      "iteration 1250 / 1500: loss 5.505664\n",
      "iteration 0 / 1500: loss 99.918157\n",
      "iteration 250 / 1500: loss 2.483757\n",
      "iteration 500 / 1500: loss 2.302899\n",
      "iteration 750 / 1500: loss 2.302560\n",
      "iteration 1000 / 1500: loss 2.302563\n",
      "iteration 1250 / 1500: loss 2.302561\n",
      "iteration 0 / 1500: loss 199.286204\n",
      "iteration 250 / 1500: loss 2.303201\n",
      "iteration 500 / 1500: loss 2.302573\n",
      "iteration 750 / 1500: loss 2.302575\n",
      "iteration 1000 / 1500: loss 2.302573\n",
      "iteration 1250 / 1500: loss 2.302576\n",
      "iteration 0 / 1500: loss 39.060264\n",
      "iteration 250 / 1500: loss 5.702473\n",
      "iteration 500 / 1500: loss 2.616964\n",
      "iteration 750 / 1500: loss 2.331591\n",
      "iteration 1000 / 1500: loss 2.305220\n",
      "iteration 1250 / 1500: loss 2.302781\n",
      "iteration 0 / 1500: loss 42.328895\n",
      "iteration 250 / 1500: loss 5.567672\n",
      "iteration 500 / 1500: loss 2.568858\n",
      "iteration 750 / 1500: loss 2.324220\n",
      "iteration 1000 / 1500: loss 2.304303\n",
      "iteration 1250 / 1500: loss 2.302674\n",
      "iteration 0 / 1500: loss 103.293253\n",
      "iteration 250 / 1500: loss 2.322913\n",
      "iteration 500 / 1500: loss 2.302564\n",
      "iteration 750 / 1500: loss 2.302566\n",
      "iteration 1000 / 1500: loss 2.302563\n",
      "iteration 1250 / 1500: loss 2.302563\n",
      "iteration 0 / 1500: loss 198.793248\n",
      "iteration 250 / 1500: loss 2.302581\n",
      "iteration 500 / 1500: loss 2.302574\n",
      "iteration 750 / 1500: loss 2.302573\n",
      "iteration 1000 / 1500: loss 2.302575\n",
      "iteration 1250 / 1500: loss 2.302577\n",
      "iteration 0 / 1500: loss 38.812389\n",
      "iteration 250 / 1500: loss 3.766438\n",
      "iteration 500 / 1500: loss 2.361196\n",
      "iteration 750 / 1500: loss 2.304873\n",
      "iteration 1000 / 1500: loss 2.302622\n",
      "iteration 1250 / 1500: loss 2.302535\n",
      "iteration 0 / 1500: loss 41.744171\n",
      "iteration 250 / 1500: loss 3.636888\n",
      "iteration 500 / 1500: loss 2.347681\n",
      "iteration 750 / 1500: loss 2.304062\n",
      "iteration 1000 / 1500: loss 2.302577\n",
      "iteration 1250 / 1500: loss 2.302536\n",
      "iteration 0 / 1500: loss 100.401675\n",
      "iteration 250 / 1500: loss 2.318908\n",
      "iteration 500 / 1500: loss 2.302567\n",
      "iteration 750 / 1500: loss 2.302558\n",
      "iteration 1000 / 1500: loss 2.302561\n",
      "iteration 1250 / 1500: loss 2.302567\n",
      "iteration 0 / 1500: loss 198.451040\n",
      "iteration 250 / 1500: loss 2.302579\n",
      "iteration 500 / 1500: loss 2.302572\n",
      "iteration 750 / 1500: loss 2.302573\n",
      "iteration 1000 / 1500: loss 2.302574\n",
      "iteration 1250 / 1500: loss 2.302571\n",
      "iteration 0 / 1500: loss 38.656764\n",
      "iteration 250 / 1500: loss 3.659241\n",
      "iteration 500 / 1500: loss 2.353159\n",
      "iteration 750 / 1500: loss 2.304418\n",
      "iteration 1000 / 1500: loss 2.302597\n",
      "iteration 1250 / 1500: loss 2.302541\n",
      "iteration 0 / 1500: loss 40.201267\n",
      "iteration 250 / 1500: loss 3.491421\n",
      "iteration 500 / 1500: loss 2.339792\n",
      "iteration 750 / 1500: loss 2.303701\n",
      "iteration 1000 / 1500: loss 2.302563\n",
      "iteration 1250 / 1500: loss 2.302534\n",
      "lr 1.000000e-07 reg 9.500000e+03 train accuracy: 0.060169 val accuracy: 0.060000\n",
      "lr 1.000000e-07 reg 1.000000e+04 train accuracy: 0.055407 val accuracy: 0.045000\n",
      "lr 1.000000e-07 reg 2.500000e+04 train accuracy: 0.141186 val accuracy: 0.174000\n",
      "lr 1.000000e-07 reg 5.000000e+04 train accuracy: 0.700034 val accuracy: 0.773000\n",
      "lr 5.000000e-07 reg 9.500000e+03 train accuracy: 0.703814 val accuracy: 0.785000\n",
      "lr 5.000000e-07 reg 1.000000e+04 train accuracy: 0.710644 val accuracy: 0.797000\n",
      "lr 5.000000e-07 reg 2.500000e+04 train accuracy: 0.681220 val accuracy: 0.753000\n",
      "lr 5.000000e-07 reg 5.000000e+04 train accuracy: 0.626237 val accuracy: 0.704000\n",
      "lr 6.750000e-07 reg 9.500000e+03 train accuracy: 0.700458 val accuracy: 0.781000\n",
      "lr 6.750000e-07 reg 1.000000e+04 train accuracy: 0.708237 val accuracy: 0.793000\n",
      "lr 6.750000e-07 reg 2.500000e+04 train accuracy: 0.669288 val accuracy: 0.750000\n",
      "lr 6.750000e-07 reg 5.000000e+04 train accuracy: 0.602559 val accuracy: 0.686000\n",
      "lr 6.900000e-07 reg 9.500000e+03 train accuracy: 0.699034 val accuracy: 0.777000\n",
      "lr 6.900000e-07 reg 1.000000e+04 train accuracy: 0.701831 val accuracy: 0.777000\n",
      "lr 6.900000e-07 reg 2.500000e+04 train accuracy: 0.662780 val accuracy: 0.744000\n",
      "lr 6.900000e-07 reg 5.000000e+04 train accuracy: 0.577695 val accuracy: 0.663000\n",
      "best validation accuracy achieved during cross-validation: 0.797000\n"
     ]
    }
   ],
   "source": [
    "# Use the validation set to tune hyperparameters (regularization strength and\n",
    "# learning rate). You should experiment with different ranges for the learning\n",
    "# rates and regularization strengths.\n",
    "results = {}\n",
    "best_val = -1\n",
    "best_softmax = None\n",
    "learning_rates = [1e-7, 5e-7, 6.75e-7, 6.9e-7]\n",
    "regularization_strengths = [2.5e4, 5e4, 0.95e4, 1e4]\n",
    "\n",
    "################################################################################\n",
    "# TODO:                                                                        #\n",
    "# Use the validation set to set the learning rate and regularization strength. #\n",
    "#                                                                              #\n",
    "#                                                                              #\n",
    "################################################################################\n",
    "from linear_classifier import LinearClassifier\n",
    "\n",
    "for lr in learning_rates:\n",
    "    for reg_val in regularization_strengths:\n",
    "        softmaxtrainer = LinearClassifier()\n",
    "        softmaxtrainer.train(X_train, y_train, learning_rate=lr, reg=reg_val, num_iters=1500, verbose=True)\n",
    "        \n",
    "        predicted_Y_Train = softmaxtrainer.predict(X_train)\n",
    "        train_accuracy = np.mean(y_train == predicted_Y_Train)\n",
    "        \n",
    "        predicted_Y_Val = softmaxtrainer.predict(X_val)\n",
    "        val_accuracy = np.mean(y_val == predicted_Y_Val) \n",
    "        \n",
    "        results[(lr, reg_val)] = (train_accuracy, val_accuracy)\n",
    "        \n",
    "        if best_val < val_accuracy:\n",
    "            best_val = val_accuracy\n",
    "            best_classifier = softmaxtrainer\n",
    "        \n",
    "        \n",
    "################################################################################\n",
    "#                              END OF YOUR CODE                                #\n",
    "################################################################################\n",
    "# Print out results.\n",
    "for lr, reg in sorted(results):\n",
    "    train_accuracy, val_accuracy = results[(lr, reg)]\n",
    "    print('lr %e reg %e train accuracy: %f val accuracy: %f' % (\n",
    "                lr, reg, train_accuracy, val_accuracy))\n",
    "    \n",
    "print('best validation accuracy achieved during cross-validation: %f' % best_val)"
   ]
  },
  {
   "cell_type": "markdown",
   "metadata": {},
   "source": [
    "## Select the best trained softmax network"
   ]
  },
  {
   "cell_type": "code",
   "execution_count": 19,
   "metadata": {},
   "outputs": [
    {
     "name": "stdout",
     "output_type": "stream",
     "text": [
      "softmax on raw pixels final test set accuracy: 0.705000\n"
     ]
    }
   ],
   "source": [
    "# evaluate on test set\n",
    "# Evaluate the best softmax on test set\n",
    "y_test_pred = best_classifier.predict(X_test)\n",
    "test_accuracy = np.mean(y_test == y_test_pred)\n",
    "print('softmax on raw pixels final test set accuracy: {:f}'.format(test_accuracy, ))"
   ]
  },
  {
   "cell_type": "markdown",
   "metadata": {},
   "source": [
    "## Visualization of the weights per class"
   ]
  },
  {
   "cell_type": "code",
   "execution_count": 20,
   "metadata": {},
   "outputs": [
    {
     "data": {
      "image/png": "[encoded data removed]",
      "text/plain": [
       "<Figure size 720x576 with 10 Axes>"
      ]
     },
     "metadata": {},
     "output_type": "display_data"
    }
   ],
   "source": [
    "# Visualize the learned weights for each class\n",
    "w = best_classifier.W#[:-1,:] # strip out the bias\n",
    "w = w.reshape(28, 28, 10)\n",
    "\n",
    "w_min, w_max = np.min(w), np.max(w)\n",
    "\n",
    "classes = ['0', '1', '2', '3', '4', '5', '6', '7', '8', '9']\n",
    "for i in range(10):\n",
    "    plt.subplot(2, 5, i + 1)\n",
    "    \n",
    "    # Rescale the weights to be between 0 and 255\n",
    "    wimg = 255.0 * (w[:, :, i].squeeze() - w_min) / (w_max - w_min)\n",
    "    plt.imshow(wimg.astype('uint8'))\n",
    "    plt.axis('off')\n",
    "    plt.title(classes[i])"
   ]
  },
  {
   "cell_type": "code",
   "execution_count": null,
   "metadata": {},
   "outputs": [],
   "source": []
  }
 ],
 "metadata": {
  "kernelspec": {
   "display_name": "Python 3",
   "language": "python",
   "name": "python3"
  },
  "language_info": {
   "codemirror_mode": {
    "name": "ipython",
    "version": 3
   },
   "file_extension": ".py",
   "mimetype": "text/x-python",
   "name": "python",
   "nbconvert_exporter": "python",
   "pygments_lexer": "ipython3",
   "version": "3.6.6"
  }
 },
 "nbformat": 4,
 "nbformat_minor": 1
}
