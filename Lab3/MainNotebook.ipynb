{
 "cells": [
  {
   "cell_type": "markdown",
   "metadata": {},
   "source": [
    "# Using Custom Data Loaders\n",
    "Python 3.6\n",
    "\n",
    "Pytorch 0.4.1\n",
    "\n",
    "CUDA 9.2\n"
   ]
  },
  {
   "cell_type": "markdown",
   "metadata": {},
   "source": [
    "### Loading all required Library functions"
   ]
  },
  {
   "cell_type": "code",
   "execution_count": 1,
   "metadata": {},
   "outputs": [],
   "source": [
    "import numpy as np\n",
    "import torch\n",
    "from torchvision import transforms\n",
    "from torch.utils.data import Dataset, DataLoader\n",
    "import matplotlib.pyplot as plt \n",
    "\n",
    "import customDataExtractor\n",
    "import customDataLoader\n",
    "import accuracyCheck\n",
    "import LossCheck\n",
    "import Train\n",
    "import Net"
   ]
  },
  {
   "cell_type": "markdown",
   "metadata": {},
   "source": [
    "### Checking if device has a supported GPU"
   ]
  },
  {
   "cell_type": "code",
   "execution_count": 2,
   "metadata": {},
   "outputs": [
    {
     "name": "stdout",
     "output_type": "stream",
     "text": [
      "cuda:0\n"
     ]
    }
   ],
   "source": [
    "# # Check for CUDA\n",
    "device = torch.device(\"cuda:0\" if torch.cuda.is_available() else \"cpu\")\n",
    "# # Assume that we are on a CUDA machine, then this should print a CUDA device:\n",
    "print(device)"
   ]
  },
  {
   "cell_type": "markdown",
   "metadata": {},
   "source": [
    "### Setting Parameters"
   ]
  },
  {
   "cell_type": "code",
   "execution_count": 3,
   "metadata": {},
   "outputs": [],
   "source": [
    "# Parameters\n",
    "batch_size = 1000\n",
    "valid_size = 1000\n",
    "Epoch = 10"
   ]
  },
  {
   "cell_type": "markdown",
   "metadata": {},
   "source": [
    "### Loading training, validation & test datasets"
   ]
  },
  {
   "cell_type": "code",
   "execution_count": 4,
   "metadata": {
    "scrolled": true
   },
   "outputs": [
    {
     "name": "stdout",
     "output_type": "stream",
     "text": [
      "ZipFile found\n",
      "Checking if file extracted...\n",
      "File already extracted.\n",
      "Image path obtained\n",
      "Class labels obtained\n",
      "Data Extraction Done!!\n"
     ]
    }
   ],
   "source": [
    "# Extracting & obtaining all image paths & labels from zipfile\n",
    "trainPath, trainLabel, testPath, testLabel = customDataExtractor.extractor('Dog-data.zip')\n",
    "\n",
    "# Loading data from path & obtaining labels for training & testing data\n",
    "trainData = customDataLoader.loader(trainPath,trainLabel)\n",
    "testData = customDataLoader.loader(testPath,testLabel)\n",
    "\n",
    "# Splitting Indices from training & validation data\n",
    "indices = torch.randperm(len(trainData))\n",
    "train_indices = indices[:len(indices) - valid_size]  # Taining         1 - 19 000 (19 000)\n",
    "valid_indices = indices[len(indices) - valid_size:]  # Validation 19 001 - 20 000 ( 1 000)\n",
    "\n",
    "# Making miniBatches\n",
    "trainloader = DataLoader(trainData, batch_size=batch_size,\n",
    "                       sampler=torch.utils.data.SubsetRandomSampler(train_indices))\n",
    "validloader = DataLoader(trainData, batch_size=batch_size,\n",
    "                       sampler=torch.utils.data.SubsetRandomSampler(valid_indices))\n",
    "testloader = DataLoader(testData, batch_size=batch_size,\n",
    "                        shuffle=True)\n"
   ]
  },
  {
   "cell_type": "markdown",
   "metadata": {},
   "source": [
    "### Defining the NN"
   ]
  },
  {
   "cell_type": "code",
   "execution_count": 5,
   "metadata": {},
   "outputs": [
    {
     "data": {
      "text/plain": [
       "Net(\n",
       "  (conv1): Conv2d(3, 32, kernel_size=(5, 5), stride=(1, 1), padding=(2, 2))\n",
       "  (conv2): Conv2d(32, 64, kernel_size=(3, 3), stride=(1, 1), padding=(1, 1))\n",
       "  (pool): MaxPool2d(kernel_size=2, stride=2, padding=0, dilation=1, ceil_mode=False)\n",
       "  (norm1): BatchNorm2d(32, eps=1e-05, momentum=0.1, affine=True, track_running_stats=True)\n",
       "  (norm2): BatchNorm2d(64, eps=1e-05, momentum=0.1, affine=True, track_running_stats=True)\n",
       "  (fc1): Linear(in_features=4096, out_features=1024, bias=True)\n",
       "  (fc2): Linear(in_features=1024, out_features=2, bias=True)\n",
       ")"
      ]
     },
     "execution_count": 5,
     "metadata": {},
     "output_type": "execute_result"
    }
   ],
   "source": [
    "net = Net.Net()\n",
    "net.to(device)"
   ]
  },
  {
   "cell_type": "markdown",
   "metadata": {},
   "source": [
    "### Initializing vectors to store Accuracy & Loss"
   ]
  },
  {
   "cell_type": "code",
   "execution_count": 6,
   "metadata": {},
   "outputs": [],
   "source": [
    "# Initialize Accuracy List\n",
    "trainAccuracy = np.zeros(1)\n",
    "validAccuracy = np.zeros(1)\n",
    "\n",
    "# Initialize Loss List\n",
    "trainLoss = np.zeros(1)\n",
    "validLoss = np.zeros(1)"
   ]
  },
  {
   "cell_type": "markdown",
   "metadata": {},
   "source": [
    "### Training the NN\n",
    "Using Adam Optimization parameters\n",
    "\n",
    "Learning Rate =  1e-3 \n",
    "\n",
    "Betas         = (0.9, 0.999)"
   ]
  },
  {
   "cell_type": "code",
   "execution_count": 7,
   "metadata": {},
   "outputs": [
    {
     "name": "stdout",
     "output_type": "stream",
     "text": [
      "[1,    19] Training loss: 0.651\n",
      "[1,     1] Validation loss: 0.654\n",
      "Accuracy of the network on the Training images: 63 %\n",
      "Accuracy of the network on the Validation images: 63 %\n",
      "[2,    19] Training loss: 0.575\n",
      "[2,     1] Validation loss: 0.554\n",
      "Accuracy of the network on the Training images: 72 %\n",
      "Accuracy of the network on the Validation images: 71 %\n",
      "[3,    19] Training loss: 0.509\n",
      "[3,     1] Validation loss: 0.528\n",
      "Accuracy of the network on the Training images: 76 %\n",
      "Accuracy of the network on the Validation images: 74 %\n",
      "[4,    19] Training loss: 0.478\n",
      "[4,     1] Validation loss: 0.512\n",
      "Accuracy of the network on the Training images: 79 %\n",
      "Accuracy of the network on the Validation images: 75 %\n",
      "[5,    19] Training loss: 0.489\n",
      "[5,     1] Validation loss: 0.517\n",
      "Accuracy of the network on the Training images: 81 %\n",
      "Accuracy of the network on the Validation images: 75 %\n",
      "[6,    19] Training loss: 0.395\n",
      "[6,     1] Validation loss: 0.505\n",
      "Accuracy of the network on the Training images: 84 %\n",
      "Accuracy of the network on the Validation images: 78 %\n",
      "[7,    19] Training loss: 0.342\n",
      "[7,     1] Validation loss: 0.491\n",
      "Accuracy of the network on the Training images: 87 %\n",
      "Accuracy of the network on the Validation images: 77 %\n",
      "[8,    19] Training loss: 0.335\n",
      "[8,     1] Validation loss: 0.506\n",
      "Accuracy of the network on the Training images: 89 %\n",
      "Accuracy of the network on the Validation images: 77 %\n",
      "[9,    19] Training loss: 0.281\n",
      "[9,     1] Validation loss: 0.529\n",
      "Accuracy of the network on the Training images: 92 %\n",
      "Accuracy of the network on the Validation images: 78 %\n",
      "[10,    19] Training loss: 0.240\n",
      "[10,     1] Validation loss: 0.549\n",
      "Accuracy of the network on the Training images: 94 %\n",
      "Accuracy of the network on the Validation images: 77 %\n",
      "Fin...\n"
     ]
    }
   ],
   "source": [
    "# Train your model\n",
    "for epoch in range(Epoch):  # loop over the dataset multiple times\n",
    "\n",
    "    trainLossTemp, net = Train.train(trainloader, net, 'Training', epoch)\n",
    "    trainLoss = np.append(trainLoss, trainLossTemp)\n",
    "    validLoss = np.append(validLoss, LossCheck.lossCheck(validloader, net, 'Validation', epoch))\n",
    "\n",
    "    trainAccuracy = np.append(trainAccuracy, accuracyCheck.accuracyCheck(trainloader, net, 'Training'))\n",
    "    validAccuracy = np.append(validAccuracy, accuracyCheck.accuracyCheck(validloader, net, 'Validation'))\n",
    "\n",
    "print('Fin...')"
   ]
  },
  {
   "cell_type": "markdown",
   "metadata": {},
   "source": [
    "### Deleting the 1st value of the accuracy & loss vectors\n",
    "Since the vector is initialized using zeros & rest are appended, we need to delete the 1st rogue variable."
   ]
  },
  {
   "cell_type": "code",
   "execution_count": 8,
   "metadata": {},
   "outputs": [],
   "source": [
    "# Deleting 1st index value\n",
    "trainLoss = np.delete(trainLoss,0)\n",
    "validLoss = np.delete(validLoss,0)\n",
    "trainAccuracy = np.delete(trainAccuracy,0)\n",
    "validAccuracy = np.delete(validAccuracy,0)\n",
    "\n",
    "# Saving the network\n",
    "#torch.save(net, './Save')\n"
   ]
  },
  {
   "cell_type": "markdown",
   "metadata": {},
   "source": [
    "### Plotting the Accuracy & Loss Vs Epoch"
   ]
  },
  {
   "cell_type": "code",
   "execution_count": 9,
   "metadata": {},
   "outputs": [
    {
     "data": {
      "text/plain": [
       "Text(0,0.5,'Accuracy')"
      ]
     },
     "execution_count": 9,
     "metadata": {},
     "output_type": "execute_result"
    },
    {
     "data": {
      "image/png": "[encoded data removed]",
      "text/plain": [
       "<Figure size 432x288 with 1 Axes>"
      ]
     },
     "metadata": {},
     "output_type": "display_data"
    },
    {
     "data": {
      "image/png": "[encoded data removed]",
      "text/plain": [
       "<Figure size 432x288 with 1 Axes>"
      ]
     },
     "metadata": {},
     "output_type": "display_data"
    },
    {
     "data": {
      "image/png": "[encoded data removed]",
      "text/plain": [
       "<Figure size 432x288 with 1 Axes>"
      ]
     },
     "metadata": {},
     "output_type": "display_data"
    },
    {
     "data": {
      "image/png": "[encoded data removed]",
      "text/plain": [
       "<Figure size 432x288 with 1 Axes>"
      ]
     },
     "metadata": {},
     "output_type": "display_data"
    }
   ],
   "source": [
    "# Plots\n",
    "\n",
    "# Making X axis\n",
    "xAxis = np.arange(1, Epoch + 1 )\n",
    "\n",
    "\n",
    "# Training loss vs. epochs\n",
    "fig1 = plt.figure()\n",
    "plt.plot(xAxis, trainLoss)\n",
    "fig1.suptitle('Training Loss', fontsize=20)\n",
    "plt.xlabel('Epochs', fontsize=18)\n",
    "plt.ylabel('Loss', fontsize=16)\n",
    "\n",
    "# Training accuracy vs. epochs\n",
    "fig2 = plt.figure()\n",
    "plt.plot(xAxis, trainAccuracy)\n",
    "fig2.suptitle('Training Accuracy', fontsize=20)\n",
    "plt.xlabel('Epochs', fontsize=18)\n",
    "plt.ylabel('Accuracy', fontsize=16)\n",
    "\n",
    "# Validation loss vs epochs\n",
    "fig3 = plt.figure()\n",
    "plt.plot(xAxis, validLoss)\n",
    "fig3.suptitle('Validation Loss', fontsize=20)\n",
    "plt.xlabel('Epochs', fontsize=18)\n",
    "plt.ylabel('Loss', fontsize=16)\n",
    "\n",
    "# Validation accuracy vs. epochs\n",
    "fig4 = plt.figure()\n",
    "plt.plot(xAxis, validAccuracy)\n",
    "fig4.suptitle('Validation Accuracy', fontsize=20)\n",
    "plt.xlabel('Epochs', fontsize=18)\n",
    "plt.ylabel('Accuracy', fontsize=16)"
   ]
  },
  {
   "cell_type": "code",
   "execution_count": null,
   "metadata": {},
   "outputs": [],
   "source": []
  }
 ],
 "metadata": {
  "kernelspec": {
   "display_name": "Python 3",
   "language": "python",
   "name": "python3"
  },
  "language_info": {
   "codemirror_mode": {
    "name": "ipython",
    "version": 3
   },
   "file_extension": ".py",
   "mimetype": "text/x-python",
   "name": "python",
   "nbconvert_exporter": "python",
   "pygments_lexer": "ipython3",
   "version": "3.6.0"
  }
 },
 "nbformat": 4,
 "nbformat_minor": 1
}
