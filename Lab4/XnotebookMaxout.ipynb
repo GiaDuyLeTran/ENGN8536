{
 "cells": [
  {
   "cell_type": "markdown",
   "metadata": {},
   "source": [
    "# Model using Maxout Layer\n",
    "Python 3.6\n",
    "\n",
    "Pytorch 0.4.1\n",
    "\n",
    "CUDA 9.2\n"
   ]
  },
  {
   "cell_type": "markdown",
   "metadata": {},
   "source": [
    "### Loading all required Library functions"
   ]
  },
  {
   "cell_type": "code",
   "execution_count": 1,
   "metadata": {},
   "outputs": [],
   "source": [
    "import torch\n",
    "import torchvision\n",
    "import matplotlib.pyplot as plt\n",
    "import numpy as np\n",
    "import torch.nn as nn\n",
    "import torch.nn.functional as F\n",
    "import torch.optim as optim\n",
    "\n",
    "import checkFile\n",
    "import accuracyCheck\n",
    "import LossCheck\n",
    "import Train\n",
    "import Net\n",
    "\n",
    "%load_ext autoreload\n",
    "%autoreload 2"
   ]
  },
  {
   "cell_type": "markdown",
   "metadata": {},
   "source": [
    "### Checking if device has a supported GPU"
   ]
  },
  {
   "cell_type": "code",
   "execution_count": 2,
   "metadata": {},
   "outputs": [
    {
     "name": "stdout",
     "output_type": "stream",
     "text": [
      "cuda:0\n"
     ]
    }
   ],
   "source": [
    "# # Check for CUDA\n",
    "device = torch.device(\"cuda:0\" if torch.cuda.is_available() else \"cpu\")\n",
    "# # Assume that we are on a CUDA machine, then this should print a CUDA device:\n",
    "print(device)"
   ]
  },
  {
   "cell_type": "markdown",
   "metadata": {},
   "source": [
    "### Setting Parameters"
   ]
  },
  {
   "cell_type": "code",
   "execution_count": 3,
   "metadata": {},
   "outputs": [],
   "source": [
    "# Parameters\n",
    "batch_size = 100\n",
    "valid_size = 1000\n",
    "Epoch = 20"
   ]
  },
  {
   "cell_type": "markdown",
   "metadata": {},
   "source": [
    "### Loading training, validation & test datasets"
   ]
  },
  {
   "cell_type": "code",
   "execution_count": 4,
   "metadata": {
    "scrolled": true
   },
   "outputs": [
    {
     "name": "stdout",
     "output_type": "stream",
     "text": [
      "Files already downloaded and verified\n",
      "TrainData Done\n",
      "Size Train Data: 50000\n",
      "TrainLoader Done\n",
      "Size Train: 490\n",
      "ValidLoader Done\n",
      "Size Train: 10\n",
      "Files already downloaded and verified\n",
      "TestSet Done\n",
      "Size Train: 10000\n",
      "TestLoader Done\n",
      "Size Train: 100\n"
     ]
    }
   ],
   "source": [
    "# Loading datasets & class labels\n",
    "trainloader, validloader, testloader, classes = checkFile.initFiles(batch_size, valid_size)"
   ]
  },
  {
   "cell_type": "markdown",
   "metadata": {},
   "source": [
    "### Defining the NN"
   ]
  },
  {
   "cell_type": "code",
   "execution_count": 5,
   "metadata": {},
   "outputs": [
    {
     "data": {
      "text/plain": [
       "NetMax(\n",
       "  (conv1): Conv2d(3, 128, kernel_size=(5, 5), stride=(1, 1), padding=(2, 2))\n",
       "  (conv2): Conv2d(32, 256, kernel_size=(3, 3), stride=(1, 1), padding=(1, 1))\n",
       "  (pool): MaxPool2d(kernel_size=2, stride=2, padding=0, dilation=1, ceil_mode=False)\n",
       "  (norm1): BatchNorm2d(32, eps=1e-05, momentum=0.1, affine=True, track_running_stats=True)\n",
       "  (norm2): BatchNorm2d(64, eps=1e-05, momentum=0.1, affine=True, track_running_stats=True)\n",
       "  (fc1): Linear(in_features=4096, out_features=1024, bias=True)\n",
       "  (fc2): Linear(in_features=1024, out_features=10, bias=True)\n",
       "  (maxOut1): MaxOut()\n",
       ")"
      ]
     },
     "execution_count": 5,
     "metadata": {},
     "output_type": "execute_result"
    }
   ],
   "source": [
    "net = Net.NetMax()\n",
    "net.to(device)"
   ]
  },
  {
   "cell_type": "markdown",
   "metadata": {},
   "source": [
    "### Initializing vectors to store Accuracy & Loss"
   ]
  },
  {
   "cell_type": "code",
   "execution_count": 6,
   "metadata": {},
   "outputs": [],
   "source": [
    "# Initialize Accuracy List\n",
    "trainAccuracy = np.zeros(1)\n",
    "validAccuracy = np.zeros(1)\n",
    "\n",
    "# Initialize Loss List\n",
    "trainLoss = np.zeros(1)\n",
    "validLoss = np.zeros(1)"
   ]
  },
  {
   "cell_type": "markdown",
   "metadata": {},
   "source": [
    "### Training the NN\n",
    "Using Adam Optimization parameters\n",
    "\n",
    "Learning Rate =  1e-3 \n",
    "\n",
    "Betas         = (0.9, 0.999)"
   ]
  },
  {
   "cell_type": "code",
   "execution_count": 7,
   "metadata": {},
   "outputs": [
    {
     "name": "stdout",
     "output_type": "stream",
     "text": [
      "[1,   490] Training loss: 1.093\n",
      "[1,    10] Validation loss: 1.218\n",
      "Accuracy of the network on the Training images: 58 %\n",
      "Accuracy of the network on the Validation images: 56 %\n",
      "[2,   490] Training loss: 1.058\n",
      "[2,    10] Validation loss: 0.834\n",
      "Accuracy of the network on the Training images: 65 %\n",
      "Accuracy of the network on the Validation images: 63 %\n",
      "[3,   490] Training loss: 0.852\n",
      "[3,    10] Validation loss: 0.962\n",
      "Accuracy of the network on the Training images: 70 %\n",
      "Accuracy of the network on the Validation images: 67 %\n",
      "[4,   490] Training loss: 0.870\n",
      "[4,    10] Validation loss: 0.997\n",
      "Accuracy of the network on the Training images: 71 %\n",
      "Accuracy of the network on the Validation images: 67 %\n",
      "[5,   490] Training loss: 0.629\n",
      "[5,    10] Validation loss: 0.662\n",
      "Accuracy of the network on the Training images: 74 %\n",
      "Accuracy of the network on the Validation images: 68 %\n",
      "[6,   490] Training loss: 0.918\n",
      "[6,    10] Validation loss: 0.821\n",
      "Accuracy of the network on the Training images: 76 %\n",
      "Accuracy of the network on the Validation images: 71 %\n",
      "[7,   490] Training loss: 0.704\n",
      "[7,    10] Validation loss: 0.768\n",
      "Accuracy of the network on the Training images: 77 %\n",
      "Accuracy of the network on the Validation images: 73 %\n",
      "[8,   490] Training loss: 0.611\n",
      "[8,    10] Validation loss: 0.670\n",
      "Accuracy of the network on the Training images: 78 %\n",
      "Accuracy of the network on the Validation images: 73 %\n",
      "[9,   490] Training loss: 0.541\n",
      "[9,    10] Validation loss: 0.720\n",
      "Accuracy of the network on the Training images: 79 %\n",
      "Accuracy of the network on the Validation images: 73 %\n",
      "[10,   490] Training loss: 0.660\n",
      "[10,    10] Validation loss: 0.821\n",
      "Accuracy of the network on the Training images: 79 %\n",
      "Accuracy of the network on the Validation images: 75 %\n",
      "[11,   490] Training loss: 0.378\n",
      "[11,    10] Validation loss: 0.750\n",
      "Accuracy of the network on the Training images: 81 %\n",
      "Accuracy of the network on the Validation images: 76 %\n",
      "[12,   490] Training loss: 0.651\n",
      "[12,    10] Validation loss: 0.635\n",
      "Accuracy of the network on the Training images: 81 %\n",
      "Accuracy of the network on the Validation images: 75 %\n",
      "[13,   490] Training loss: 0.617\n",
      "[13,    10] Validation loss: 0.658\n",
      "Accuracy of the network on the Training images: 82 %\n",
      "Accuracy of the network on the Validation images: 76 %\n",
      "[14,   490] Training loss: 0.573\n",
      "[14,    10] Validation loss: 0.676\n",
      "Accuracy of the network on the Training images: 82 %\n",
      "Accuracy of the network on the Validation images: 75 %\n",
      "[15,   490] Training loss: 0.501\n",
      "[15,    10] Validation loss: 0.810\n",
      "Accuracy of the network on the Training images: 83 %\n",
      "Accuracy of the network on the Validation images: 74 %\n",
      "[16,   490] Training loss: 0.446\n",
      "[16,    10] Validation loss: 0.781\n",
      "Accuracy of the network on the Training images: 83 %\n",
      "Accuracy of the network on the Validation images: 75 %\n",
      "[17,   490] Training loss: 0.444\n",
      "[17,    10] Validation loss: 0.844\n",
      "Accuracy of the network on the Training images: 85 %\n",
      "Accuracy of the network on the Validation images: 77 %\n",
      "[18,   490] Training loss: 0.579\n",
      "[18,    10] Validation loss: 0.916\n",
      "Accuracy of the network on the Training images: 85 %\n",
      "Accuracy of the network on the Validation images: 76 %\n",
      "[19,   490] Training loss: 0.463\n",
      "[19,    10] Validation loss: 0.552\n",
      "Accuracy of the network on the Training images: 86 %\n",
      "Accuracy of the network on the Validation images: 78 %\n",
      "[20,   490] Training loss: 0.510\n",
      "[20,    10] Validation loss: 0.590\n",
      "Accuracy of the network on the Training images: 86 %\n",
      "Accuracy of the network on the Validation images: 77 %\n",
      "Fin...\n"
     ]
    }
   ],
   "source": [
    "# Train your model\n",
    "for epoch in range(Epoch):  # loop over the dataset multiple times\n",
    "\n",
    "    trainLossTemp, net = Train.train(trainloader, net, 'Training', epoch)\n",
    "    trainLoss = np.append(trainLoss, trainLossTemp)\n",
    "    validLoss = np.append(validLoss, LossCheck.lossCheck(validloader, net, 'Validation', epoch))\n",
    "\n",
    "    trainAccuracy = np.append(trainAccuracy, accuracyCheck.accuracyCheck(trainloader, net, 'Training'))\n",
    "    validAccuracy = np.append(validAccuracy, accuracyCheck.accuracyCheck(validloader, net, 'Validation'))\n",
    "\n",
    "print('Fin...')"
   ]
  },
  {
   "cell_type": "markdown",
   "metadata": {},
   "source": [
    "### Deleting the 1st value of the accuracy & loss vectors\n",
    "Since the vector is initialized using zeros & rest are appended, we need to delete the 1st rogue variable."
   ]
  },
  {
   "cell_type": "code",
   "execution_count": 8,
   "metadata": {},
   "outputs": [],
   "source": [
    "# Deleting 1st index value\n",
    "trainLoss = np.delete(trainLoss,0)\n",
    "validLoss = np.delete(validLoss,0)\n",
    "trainAccuracy = np.delete(trainAccuracy,0)\n",
    "validAccuracy = np.delete(validAccuracy,0)\n",
    "\n",
    "# Saving the network\n",
    "torch.save(net, './Save')\n"
   ]
  },
  {
   "cell_type": "markdown",
   "metadata": {},
   "source": [
    "### Plotting the Accuracy & Loss Vs Epoch"
   ]
  },
  {
   "cell_type": "code",
   "execution_count": 9,
   "metadata": {},
   "outputs": [
    {
     "data": {
      "text/plain": [
       "Text(0,0.5,'Accuracy')"
      ]
     },
     "execution_count": 9,
     "metadata": {},
     "output_type": "execute_result"
    },
    {
     "data": {
      "image/png": "[encoded data removed]",
      "text/plain": [
       "<Figure size 432x288 with 1 Axes>"
      ]
     },
     "metadata": {},
     "output_type": "display_data"
    },
    {
     "data": {
      "image/png": "[encoded data removed]",
      "text/plain": [
       "<Figure size 432x288 with 1 Axes>"
      ]
     },
     "metadata": {},
     "output_type": "display_data"
    },
    {
     "data": {
      "image/png": "[encoded data removed]",
      "text/plain": [
       "<Figure size 432x288 with 1 Axes>"
      ]
     },
     "metadata": {},
     "output_type": "display_data"
    },
    {
     "data": {
      "image/png": "[encoded data removed]",
      "text/plain": [
       "<Figure size 432x288 with 1 Axes>"
      ]
     },
     "metadata": {},
     "output_type": "display_data"
    }
   ],
   "source": [
    "# Plots\n",
    "\n",
    "# Making X axis\n",
    "xAxis = np.arange(1, Epoch + 1 )\n",
    "\n",
    "\n",
    "# Training loss vs. epochs\n",
    "fig1 = plt.figure()\n",
    "plt.plot(xAxis, trainLoss)\n",
    "fig1.suptitle('Training Loss', fontsize=20)\n",
    "plt.xlabel('Epochs', fontsize=18)\n",
    "plt.ylabel('Loss', fontsize=16)\n",
    "\n",
    "# Training accuracy vs. epochs\n",
    "fig2 = plt.figure()\n",
    "plt.plot(xAxis, trainAccuracy)\n",
    "fig2.suptitle('Training Accuracy', fontsize=20)\n",
    "plt.xlabel('Epochs', fontsize=18)\n",
    "plt.ylabel('Accuracy', fontsize=16)\n",
    "\n",
    "# Validation loss vs epochs\n",
    "fig3 = plt.figure()\n",
    "plt.plot(xAxis, validLoss)\n",
    "fig3.suptitle('Validation Loss', fontsize=20)\n",
    "plt.xlabel('Epochs', fontsize=18)\n",
    "plt.ylabel('Loss', fontsize=16)\n",
    "\n",
    "# Validation accuracy vs. epochs\n",
    "fig4 = plt.figure()\n",
    "plt.plot(xAxis, validAccuracy)\n",
    "fig4.suptitle('Validation Accuracy', fontsize=20)\n",
    "plt.xlabel('Epochs', fontsize=18)\n",
    "plt.ylabel('Accuracy', fontsize=16)"
   ]
  },
  {
   "cell_type": "code",
   "execution_count": null,
   "metadata": {},
   "outputs": [],
   "source": []
  },
  {
   "cell_type": "code",
   "execution_count": null,
   "metadata": {},
   "outputs": [],
   "source": []
  }
 ],
 "metadata": {
  "kernelspec": {
   "display_name": "Python 3",
   "language": "python",
   "name": "python3"
  },
  "language_info": {
   "codemirror_mode": {
    "name": "ipython",
    "version": 3
   },
   "file_extension": ".py",
   "mimetype": "text/x-python",
   "name": "python",
   "nbconvert_exporter": "python",
   "pygments_lexer": "ipython3",
   "version": "3.6.6"
  }
 },
 "nbformat": 4,
 "nbformat_minor": 1
}
